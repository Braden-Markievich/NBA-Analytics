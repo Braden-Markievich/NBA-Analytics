{
 "cells": [
  {
   "cell_type": "code",
   "execution_count": 4,
   "id": "afda0b35-a0f7-42f7-9222-b95807bc547f",
   "metadata": {},
   "outputs": [
    {
     "name": "stdout",
     "output_type": "stream",
     "text": [
      "All done.\n"
     ]
    }
   ],
   "source": [
    "import pandas as pd\n",
    "import requests\n",
    "from bs4 import BeautifulSoup\n",
    "import time\n",
    "import csv\n",
    "\n",
    "nhl_page = requests.get(\"https://www.hockey-reference.com/leagues/NHL_2024_skaters-time-on-ice.html\")\n",
    "nhl_page_soup = BeautifulSoup(nhl_page.text, \"html.parser\")\n",
    "\n",
    "all_nhl_skaters_table = nhl_page_soup.find('table', id='stats_toi')\n",
    "if all_nhl_skaters_table is None:\n",
    "    print('Not found')\n",
    "else:                        ### Getting average even strength time on ice for defense and offense to better scale final numbers\n",
    "    defensemen_toi = 0\n",
    "    total_defensemen = 0\n",
    "    offense_toi = 0\n",
    "    total_offense = 0\n",
    "    names = all_nhl_skaters_table.find_all('td', attrs = {'data-stat':'player'})\n",
    "    games = all_nhl_skaters_table.find_all('td', attrs = {'data-stat':'games_played'})\n",
    "    positions = all_nhl_skaters_table.find_all('td', attrs = {'data-stat':'pos'})\n",
    "    toi = all_nhl_skaters_table.find_all('td', attrs = {'data-stat':'toi_ev'})\n",
    "    for name, game, position, toi_i in zip(names, games, positions, toi):\n",
    "        num = toi_i.text.replace(\":\", \".\")\n",
    "        if position.text != 'D':\n",
    "            offense_toi += float(num)\n",
    "            total_offense += 1\n",
    "        else:\n",
    "            defensemen_toi += float(num)\n",
    "            total_defensemen += 1\n",
    "        num = 0\n",
    "    total_players = total_offense + total_defensemen\n",
    "    avg_defensemen_toi = round(float(defensemen_toi) / float(total_defensemen), 2)\n",
    "    avg_offense_toi = round(float(offense_toi) / float(total_offense), 2)\n",
    "    final_str_defense_toi = str(avg_defensemen_toi).replace(\".\", \":\")\n",
    "    final_str_offense_toi = str(avg_offense_toi).replace(\".\", \":\")\n",
    "\n",
    "wsh_page = requests.get(\"https://www.hockey-reference.com/teams/WSH/2024.html#all_stats_adv_rs\")\n",
    "soup = BeautifulSoup(wsh_page.text, \"html.parser\")\n",
    "advanced_table = soup.find('table', id='stats_toi')\n",
    "if advanced_table is None:\n",
    "    print('No advanced table found.')\n",
    "else:\n",
    "    wsh_names = advanced_table.find_all('td', attrs = {'data-stat':'player'})\n",
    "    wsh_positions = advanced_table.find_all('td', attrs = {'data-stat':'pos'})\n",
    "    wsh_games = advanced_table.find_all('td', attrs = {'data-stat':'games_played'})\n",
    "    CF_rel_EV = advanced_table.find_all('td', attrs = {'data-stat':'corsi_rel_pct_ev'})\n",
    "    TOI_EV =  advanced_table.find_all('td', attrs = {'data-stat':'toi_ev'})\n",
    "    offense_weighted_toi = 0\n",
    "    defense_weighted_toi = 0\n",
    "    with open('CF%_TOI.csv', 'w', newline='') as file:\n",
    "        writer = csv.writer(file)\n",
    "        writer.writerow([\"Player\", \"CF% Rel\", \"Weighted EV TOI\"])\n",
    "        for wsh_name, wsh_position, wsh_game, CF_rel_EV_i, TOI_EV_i in zip(wsh_names, wsh_positions, wsh_games, CF_rel_EV, TOI_EV):\n",
    "            if int(wsh_game.text) < 10:   ### filters out players who played less than 10 games in 23-24 season\n",
    "                pass\n",
    "            else:\n",
    "                if wsh_position.text != 'D':   ### checks if player is on offense or defense, because this matters when computing weighted EV TOI, since defensemen generally have more TOI than players on offense\n",
    "                    offense_weighted_toi = round(float(TOI_EV_i.text.replace(\":\", \".\")) / float(avg_offense_toi), 2) ### Computes weighted time on ice while even strength for player (player EV TOI/ Avg EV TOI of that player's position in the NHL)\n",
    "                    writer.writerow([wsh_name.text, CF_rel_EV_i.text, offense_weighted_toi])\n",
    "                    offense_weighted_toi = 0\n",
    "                else:\n",
    "                    defense_weighted_toi = round(float(TOI_EV_i.text.replace(\":\", \".\")) / float(avg_defensemen_toi), 2)\n",
    "                    writer.writerow([wsh_name.text, CF_rel_EV_i.text, defense_weighted_toi])\n",
    "                    defense_weighted_toi = 0\n",
    "file.close()\n",
    "print('All done.')"
   ]
  },
  {
   "cell_type": "code",
   "execution_count": null,
   "id": "1d5875f8-053f-49c8-884d-fbf5046e73d1",
   "metadata": {},
   "outputs": [],
   "source": []
  }
 ],
 "metadata": {
  "kernelspec": {
   "display_name": "Python 3 (ipykernel)",
   "language": "python",
   "name": "python3"
  },
  "language_info": {
   "codemirror_mode": {
    "name": "ipython",
    "version": 3
   },
   "file_extension": ".py",
   "mimetype": "text/x-python",
   "name": "python",
   "nbconvert_exporter": "python",
   "pygments_lexer": "ipython3",
   "version": "3.12.1"
  }
 },
 "nbformat": 4,
 "nbformat_minor": 5
}
