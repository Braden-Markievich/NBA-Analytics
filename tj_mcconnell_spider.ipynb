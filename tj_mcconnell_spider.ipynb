{
 "cells": [
  {
   "cell_type": "code",
   "execution_count": 1,
   "id": "83bd8f25-652f-4c9c-9aa5-4df0eed8a7ba",
   "metadata": {},
   "outputs": [
    {
     "name": "stdout",
     "output_type": "stream",
     "text": [
      "Year: 2015-16,FG%: .470, 3FG%: .348, eFG%: .503,TS: .511, 3PArate: .192, FTrate: .088\n",
      "Year: 2016-17,FG%: .461, 3FG%: .200, eFG%: .472,TS: .504, 3PArate: .107, FTrate: .176\n",
      "Year: 2017-18,FG%: .499, 3FG%: .435, eFG%: .531,TS: .545, 3PArate: .147, FTrate: .093\n",
      "Year: 2018-19,FG%: .525, 3FG%: .333, eFG%: .542,TS: .555, 3PArate: .100, FTrate: .088\n",
      "Year: 2019-20,FG%: .516, 3FG%: .294, eFG%: .522,TS: .540, 3PArate: .041, FTrate: .102\n",
      "Year: 2020-21,FG%: .559, 3FG%: .313, eFG%: .574,TS: .583, 3PArate: .098, FTrate: .098\n",
      "Year: 2021-22,FG%: .481, 3FG%: .303, eFG%: .505,TS: .525, 3PArate: .159, FTrate: .111\n",
      "Year: 2022-23,FG%: .543, 3FG%: .441, eFG%: .568,TS: .590, 3PArate: .113, FTrate: .131\n",
      "Year: 2023-24,FG%: .556, 3FG%: .409, eFG%: .572,TS: .586, 3PArate: .074, FTrate: .105\n",
      "Year: Career,FG%: .516, 3FG%: .350, eFG%: .535,TS: .552, 3PArate: .111, FTrate: .111\n",
      "Year: ,FG%: , 3FG%: , eFG%: ,TS: , 3PArate: , FTrate: \n",
      "Year: 4 seasons,FG%: .487, 3FG%: .335, eFG%: .510,TS: .527, 3PArate: .137, FTrate: .114\n",
      "Year: 5 seasons,FG%: .539, 3FG%: .368, eFG%: .556,TS: .572, 3PArate: .090, FTrate: .109\n"
     ]
    }
   ],
   "source": [
    "from bs4 import BeautifulSoup\n",
    "import requests\n",
    "import csv\n",
    "import time\n",
    "\n",
    "tj_m_page = requests.get(\"https://www.basketball-reference.com/players/m/mccontj01.html\")\n",
    "soup = BeautifulSoup(tj_m_page.text, \"html.parser\")\n",
    "advanced = soup.find('table', id='advanced')\n",
    "totals =  soup.find('table', id='totals')\n",
    "\n",
    "years = advanced.find_all('th', attrs = {'data-stat':'season'})\n",
    "fg_pct = totals.find_all('td', attrs = {'data-stat':'fg_pct'})\n",
    "three_pct = totals.find_all('td', attrs = {'data-stat':'fg3_pct'})\n",
    "eFG = totals.find_all('td', attrs = {'data-stat':'efg_pct'})\n",
    "TS = advanced.find_all('td', attrs = {'data-stat':'ts_pct'})\n",
    "three_r = advanced.find_all('td', attrs = {'data-stat':'fg3a_per_fga_pct'})\n",
    "free_throw_r = advanced.find_all('td', attrs = {'data-stat':'fta_per_fga_pct'})\n",
    "years.pop(0)\n",
    "for year, fg_i, three_i, eFG_i, TS_i, three_r_i, free_throw_r_i in zip(years,fg_pct,three_pct,eFG,TS, three_r, free_throw_r):\n",
    "    print(f\"Year: {year.text},FG%: {fg_i.text}, 3FG%: {three_i.text}, eFG%: {eFG_i.text},TS: {TS_i.text}, 3PArate: {three_r_i.text}, FTrate: {free_throw_r_i.text}\")\n",
    "\n",
    "with open('tj_mcconnell_spider.csv', 'w', newline='') as file:\n",
    "    writer = csv.writer(file)\n",
    "    writer.writerow([\"SEASON\", \"FG%\", \"3P%\", 'eFG%', 'TS%', '3PAr', 'FTr'])\n",
    "    for year, fg_i, three_i, eFG_i, TS_i, three_r_i, free_throw_r_i in zip(years,fg_pct,three_pct,eFG,TS, three_r, free_throw_r):\n",
    "        writer.writerow([year.text, fg_i.text, three_i.text, eFG_i.text, TS_i.text, three_r_i.text, free_throw_r_i.text])\n",
    "file.close()"
   ]
  },
  {
   "cell_type": "code",
   "execution_count": null,
   "id": "2025adbb-8bfa-4d53-a462-73d5e5af85ce",
   "metadata": {},
   "outputs": [],
   "source": []
  }
 ],
 "metadata": {
  "kernelspec": {
   "display_name": "Python 3 (ipykernel)",
   "language": "python",
   "name": "python3"
  },
  "language_info": {
   "codemirror_mode": {
    "name": "ipython",
    "version": 3
   },
   "file_extension": ".py",
   "mimetype": "text/x-python",
   "name": "python",
   "nbconvert_exporter": "python",
   "pygments_lexer": "ipython3",
   "version": "3.12.1"
  }
 },
 "nbformat": 4,
 "nbformat_minor": 5
}
