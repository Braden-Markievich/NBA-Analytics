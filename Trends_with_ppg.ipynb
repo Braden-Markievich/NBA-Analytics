{
 "cells": [
  {
   "cell_type": "code",
   "execution_count": 4,
   "id": "044d7151-7e2e-47fb-8642-1f97b3f73cc7",
   "metadata": {},
   "outputs": [
    {
     "name": "stdout",
     "output_type": "stream",
     "text": [
      "All done!\n"
     ]
    }
   ],
   "source": [
    "from bs4 import BeautifulSoup\n",
    "import requests\n",
    "import csv\n",
    "import time\n",
    "\n",
    "\n",
    "with open('trends_with_ppg.csv', 'w', newline='') as file:\n",
    "    writer = csv.writer(file)\n",
    "    writer.writerow([\"SEASON\", \"3PAr\", \"FTr\", 'Pace', 'PPG'])\n",
    "    for year in range(1980, 2025):\n",
    "        threePAr_page = requests.get(f\"https://www.basketball-reference.com/leagues/NBA_{year}.html\")\n",
    "        soup = BeautifulSoup(threePAr_page.text, \"html.parser\")\n",
    "        advanced = soup.find('table', id='advanced-team')\n",
    "        ppg_table = soup.find('table', id='per_game-team')\n",
    "        tfoot_ppg = ppg_table.find('tfoot')\n",
    "        tfoot_advanced = advanced.find('tfoot')\n",
    "        ftr = tfoot_advanced.find('td', attrs = {'data-stat':'fta_per_fga_pct'})\n",
    "        threePAr = tfoot_advanced.find('td', attrs = {'data-stat':'fg3a_per_fga_pct'})\n",
    "        pace = tfoot_advanced.find('td', attrs = {'data-stat':'pace'})\n",
    "        ppg = tfoot_ppg.find('td', attrs = {'data-stat':'pts'})\n",
    "        writer.writerow([year, threePAr.text, ftr.text, pace.text, ppg.text])\n",
    "        time.sleep(15)\n",
    "file.close()\n",
    "print('All done!')\n",
    "    "
   ]
  },
  {
   "cell_type": "code",
   "execution_count": null,
   "id": "070628f8-fdf9-4837-b57b-b1a64dccd49f",
   "metadata": {},
   "outputs": [],
   "source": []
  }
 ],
 "metadata": {
  "kernelspec": {
   "display_name": "Python 3 (ipykernel)",
   "language": "python",
   "name": "python3"
  },
  "language_info": {
   "codemirror_mode": {
    "name": "ipython",
    "version": 3
   },
   "file_extension": ".py",
   "mimetype": "text/x-python",
   "name": "python",
   "nbconvert_exporter": "python",
   "pygments_lexer": "ipython3",
   "version": "3.12.1"
  }
 },
 "nbformat": 4,
 "nbformat_minor": 5
}
