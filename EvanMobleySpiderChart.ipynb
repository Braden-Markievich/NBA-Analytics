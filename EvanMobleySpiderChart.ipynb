{
 "cells": [
  {
   "cell_type": "code",
   "execution_count": 8,
   "id": "5ca94900-9168-4734-8fb6-c796cbec2bd5",
   "metadata": {},
   "outputs": [
    {
     "name": "stdout",
     "output_type": "stream",
     "text": [
      "Year: 2021-22,FG%: .508, 3FG%: .250, eFG%: .522,TS: .549, 3PArate: .111, FTrate: .304\n",
      "Year: 2022-23,FG%: .554, 3FG%: .216, eFG%: .566,TS: .591, 3PArate: .108, FTrate: .321\n",
      "Year: 2023-24,FG%: .580, 3FG%: .373, eFG%: .600,TS: .626, 3PArate: .107, FTrate: .310\n",
      "Year: Career,FG%: .544, 3FG%: .265, eFG%: .558,TS: .584, 3PArate: .109, FTrate: .312\n"
     ]
    }
   ],
   "source": [
    "from bs4 import BeautifulSoup\n",
    "import requests\n",
    "import csv\n",
    "import time\n",
    "\n",
    "mobley_page = requests.get(\"https://www.basketball-reference.com/players/m/mobleev01.html\")\n",
    "soup = BeautifulSoup(mobley_page.text, \"html.parser\")\n",
    "advanced = soup.find('table', id='advanced')\n",
    "totals =  soup.find('table', id='totals')\n",
    "\n",
    "years = advanced.find_all('th', attrs = {'data-stat':'season'})\n",
    "fg_pct = totals.find_all('td', attrs = {'data-stat':'fg_pct'})\n",
    "three_pct = totals.find_all('td', attrs = {'data-stat':'fg3_pct'})\n",
    "eFG = totals.find_all('td', attrs = {'data-stat':'efg_pct'})\n",
    "TS = advanced.find_all('td', attrs = {'data-stat':'ts_pct'})\n",
    "three_r = advanced.find_all('td', attrs = {'data-stat':'fg3a_per_fga_pct'})\n",
    "free_throw_r = advanced.find_all('td', attrs = {'data-stat':'fta_per_fga_pct'})\n",
    "years.pop(0)\n",
    "for year, fg_i, three_i, eFG_i, TS_i, three_r_i, free_throw_r_i in zip(years,fg_pct,three_pct,eFG,TS, three_r, free_throw_r):\n",
    "    print(f\"Year: {year.text},FG%: {fg_i.text}, 3FG%: {three_i.text}, eFG%: {eFG_i.text},TS: {TS_i.text}, 3PArate: {three_r_i.text}, FTrate: {free_throw_r_i.text}\")\n",
    "\n",
    "with open('mobley_spider.csv', 'w', newline='') as file:\n",
    "    writer = csv.writer(file)\n",
    "    writer.writerow([\"SEASON\", \"FG%\", \"3P%\", 'eFG%', 'TS%', '3PAr', 'FTr'])\n",
    "    for year, fg_i, three_i, eFG_i, TS_i, three_r_i, free_throw_r_i in zip(years,fg_pct,three_pct,eFG,TS, three_r, free_throw_r):\n",
    "        writer.writerow([year.text, fg_i.text, three_i.text, eFG_i.text, TS_i.text, three_r_i.text, free_throw_r_i.text])\n",
    "file.close()"
   ]
  },
  {
   "cell_type": "code",
   "execution_count": null,
   "id": "c7b97b5f",
   "metadata": {},
   "outputs": [],
   "source": []
  },
  {
   "cell_type": "code",
   "execution_count": null,
   "id": "17860962-c352-477b-b6f0-377067ddabb2",
   "metadata": {},
   "outputs": [],
   "source": []
  }
 ],
 "metadata": {
  "kernelspec": {
   "display_name": "Python 3 (ipykernel)",
   "language": "python",
   "name": "python3"
  },
  "language_info": {
   "codemirror_mode": {
    "name": "ipython",
    "version": 3
   },
   "file_extension": ".py",
   "mimetype": "text/x-python",
   "name": "python",
   "nbconvert_exporter": "python",
   "pygments_lexer": "ipython3",
   "version": "3.12.1"
  }
 },
 "nbformat": 4,
 "nbformat_minor": 5
}
