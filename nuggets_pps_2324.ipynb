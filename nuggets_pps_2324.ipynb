{
 "cells": [
  {
   "cell_type": "code",
   "execution_count": 1,
   "id": "5e2a1861-bd68-4206-a965-3212cebb0d34",
   "metadata": {
    "scrolled": true
   },
   "outputs": [
    {
     "name": "stdout",
     "output_type": "stream",
     "text": [
      "All done!\n"
     ]
    }
   ],
   "source": [
    "from selenium import webdriver\n",
    "from selenium.webdriver.common.by import By\n",
    "import pandas as pd\n",
    "from bs4 import BeautifulSoup\n",
    "import time\n",
    "import csv\n",
    "\n",
    "with open('nuggets_pps_2324.csv', 'w', newline='') as file:\n",
    "    driver = webdriver.Chrome()\n",
    "    driver.get(\"https://www.nba.com/stats/players/shooting?SeasonType=Regular+Season&PerMode=Totals&DistanceRange=By+Zone&TeamID=1610612743\")\n",
    "    time.sleep(5)\n",
    "    soup = BeautifulSoup(driver.page_source, 'html.parser')\n",
    "    table = soup.find('table', attrs={'class': 'Crom_table__p1iZz'})\n",
    "    body = table.find('tbody', attrs={'class': 'Crom_body__UYOcU'})\n",
    "    rows = body.find_all('tr')  \n",
    "    writer = csv.writer(file)\n",
    "    writer.writerow([\"Name\", \"Restricted PPS\", \"Paint PPS\", 'Mid-Range PPS', 'Left Corner Three PPS', 'Right Corner Three PPS', 'Above the Break Three PPS'])\n",
    "    for row in rows:\n",
    "        cells = row.find_all('td')  \n",
    "        name = cells[0].text.strip()\n",
    "        restricted_fgm = float(cells[3].text.strip())\n",
    "        restricted_fga = float(cells[4].text.strip())\n",
    "        if restricted_fga < 10:\n",
    "            restricted_pps = 'N/A'\n",
    "        else:\n",
    "            restricted_pps = round((restricted_fgm * 2) / restricted_fga, 2)\n",
    "        paint_fgm = float(cells[6].text.strip())\n",
    "        paint_fga = float(cells[7].text.strip())\n",
    "        if paint_fga < 10:\n",
    "            paint_pps = 'N/A'\n",
    "        else:\n",
    "            paint_pps = round((paint_fgm * 2) / paint_fga, 2)\n",
    "        mid_fgm = float(cells[9].text.strip())\n",
    "        mid_fga = float(cells[10].text.strip())\n",
    "        if mid_fga < 10:\n",
    "            mid_pps = 'N/A'\n",
    "        else:\n",
    "            mid_pps = round((mid_fgm * 2) / mid_fga, 2)\n",
    "        left_3_fgm = float(cells[12].text.strip())\n",
    "        left_3_fga = float(cells[13].text.strip())\n",
    "        if left_3_fga < 10:\n",
    "            left_3_pps = 'N/A'\n",
    "        else:\n",
    "            left_3_pps = round((left_3_fgm * 3) / left_3_fga, 2)\n",
    "        right_3_fgm = float(cells[15].text.strip())\n",
    "        right_3_fga = float(cells[16].text.strip())\n",
    "        if right_3_fga < 10:\n",
    "            right_3_pps = 'N/A'\n",
    "        else:\n",
    "            right_3_pps = round((right_3_fgm * 3) / right_3_fga, 2)\n",
    "        above_break_fgm = float(cells[21].text.strip())\n",
    "        above_break_fga = float(cells[22].text.strip())\n",
    "        if above_break_fga < 10:\n",
    "            above_break_pps = 'N/A'\n",
    "        else:\n",
    "            above_break_pps = round((above_break_fgm * 3) / above_break_fga, 2)\n",
    "        writer.writerow([name, restricted_pps, paint_pps, mid_pps, left_3_pps, right_3_pps, above_break_pps])\n",
    "    driver.quit()\n",
    "file.close()\n",
    "print('All done!')"
   ]
  },
  {
   "cell_type": "code",
   "execution_count": null,
   "id": "3d3d5987-d472-4217-89b7-82ea27e82d12",
   "metadata": {},
   "outputs": [],
   "source": []
  }
 ],
 "metadata": {
  "kernelspec": {
   "display_name": "Python 3 (ipykernel)",
   "language": "python",
   "name": "python3"
  },
  "language_info": {
   "codemirror_mode": {
    "name": "ipython",
    "version": 3
   },
   "file_extension": ".py",
   "mimetype": "text/x-python",
   "name": "python",
   "nbconvert_exporter": "python",
   "pygments_lexer": "ipython3",
   "version": "3.12.1"
  }
 },
 "nbformat": 4,
 "nbformat_minor": 5
}
